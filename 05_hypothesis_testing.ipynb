{
 "cells": [
  {
   "cell_type": "markdown",
   "metadata": {},
   "source": [
    "## Hypothesis testing"
   ]
  },
  {
   "cell_type": "code",
   "execution_count": 18,
   "metadata": {
    "collapsed": true
   },
   "outputs": [],
   "source": [
    "# importing required modules\n",
    "import pandas as pd\n",
    "import seaborn as sns\n",
    "import matplotlib.pyplot as plt\n",
    "%matplotlib inline\n",
    "import numpy as np\n",
    "\n",
    "# runing the functions script\n",
    "%run stats_func.py"
   ]
  },
  {
   "cell_type": "code",
   "execution_count": 2,
   "metadata": {},
   "outputs": [
    {
     "data": {
      "text/html": [
       "<div>\n",
       "<table border=\"1\" class=\"dataframe\">\n",
       "  <thead>\n",
       "    <tr style=\"text-align: right;\">\n",
       "      <th></th>\n",
       "      <th>Id</th>\n",
       "      <th>SepalLengthCm</th>\n",
       "      <th>SepalWidthCm</th>\n",
       "      <th>PetalLengthCm</th>\n",
       "      <th>PetalWidthCm</th>\n",
       "      <th>Species</th>\n",
       "    </tr>\n",
       "  </thead>\n",
       "  <tbody>\n",
       "    <tr>\n",
       "      <th>0</th>\n",
       "      <td>1</td>\n",
       "      <td>5.1</td>\n",
       "      <td>3.5</td>\n",
       "      <td>1.4</td>\n",
       "      <td>0.2</td>\n",
       "      <td>Iris-setosa</td>\n",
       "    </tr>\n",
       "    <tr>\n",
       "      <th>1</th>\n",
       "      <td>2</td>\n",
       "      <td>4.9</td>\n",
       "      <td>3.0</td>\n",
       "      <td>1.4</td>\n",
       "      <td>0.2</td>\n",
       "      <td>Iris-setosa</td>\n",
       "    </tr>\n",
       "    <tr>\n",
       "      <th>2</th>\n",
       "      <td>3</td>\n",
       "      <td>4.7</td>\n",
       "      <td>3.2</td>\n",
       "      <td>1.3</td>\n",
       "      <td>0.2</td>\n",
       "      <td>Iris-setosa</td>\n",
       "    </tr>\n",
       "    <tr>\n",
       "      <th>3</th>\n",
       "      <td>4</td>\n",
       "      <td>4.6</td>\n",
       "      <td>3.1</td>\n",
       "      <td>1.5</td>\n",
       "      <td>0.2</td>\n",
       "      <td>Iris-setosa</td>\n",
       "    </tr>\n",
       "    <tr>\n",
       "      <th>4</th>\n",
       "      <td>5</td>\n",
       "      <td>5.0</td>\n",
       "      <td>3.6</td>\n",
       "      <td>1.4</td>\n",
       "      <td>0.2</td>\n",
       "      <td>Iris-setosa</td>\n",
       "    </tr>\n",
       "  </tbody>\n",
       "</table>\n",
       "</div>"
      ],
      "text/plain": [
       "   Id  SepalLengthCm  SepalWidthCm  PetalLengthCm  PetalWidthCm      Species\n",
       "0   1            5.1           3.5            1.4           0.2  Iris-setosa\n",
       "1   2            4.9           3.0            1.4           0.2  Iris-setosa\n",
       "2   3            4.7           3.2            1.3           0.2  Iris-setosa\n",
       "3   4            4.6           3.1            1.5           0.2  Iris-setosa\n",
       "4   5            5.0           3.6            1.4           0.2  Iris-setosa"
      ]
     },
     "execution_count": 2,
     "metadata": {},
     "output_type": "execute_result"
    }
   ],
   "source": [
    "# loading the iris dataset\n",
    "df = pd.read_csv('iris.csv')\n",
    "df.head()"
   ]
  },
  {
   "cell_type": "code",
   "execution_count": 3,
   "metadata": {},
   "outputs": [
    {
     "data": {
      "text/plain": [
       "array(['Iris-setosa', 'Iris-versicolor', 'Iris-virginica'], dtype=object)"
      ]
     },
     "execution_count": 3,
     "metadata": {},
     "output_type": "execute_result"
    }
   ],
   "source": [
    "# for further analysis sepal length and sepal width will be used\n",
    "sepalLength = np.array(df['SepalLengthCm'])\n",
    "sepalWidth = np.array(df['SepalWidthCm'])\n",
    "\n",
    "# the plot above is for all iris spieces, which can be listed via:\n",
    "df['Species'].unique()"
   ]
  },
  {
   "cell_type": "code",
   "execution_count": 12,
   "metadata": {
    "collapsed": true
   },
   "outputs": [],
   "source": [
    "# the remaining analysis will focus only on Iris-setosa\n",
    "sepalLengthSetosa = np.array(df['SepalLengthCm'][df['Species'] == 'Iris-setosa'])\n",
    "sepalWidthSetosa = np.array(df['SepalWidthCm'][df['Species'] == 'Iris-setosa'])\n",
    "sepalLengthVirginica = np.array(df['SepalLengthCm'][df['Species'] == 'Iris-virginica'])"
   ]
  },
  {
   "cell_type": "markdown",
   "metadata": {},
   "source": [
    "### Samples permutation\n",
    "\n",
    "Special function is defined to mix the data (that should be very similar):\n",
    "\n",
    "    def permutation_sample(data1, data2):\n",
    "        \"\"\"Generate a permutation sample from two data sets.\"\"\"\n",
    "\n",
    "        # Concatenate the data sets: data\n",
    "        data = np.concatenate((data1, data2))\n",
    "\n",
    "        # Permute the concatenated array: permuted_data\n",
    "        permuted_data = np.random.permutation(data)\n",
    "\n",
    "        # Split the permuted array into two: perm_sample_1, perm_sample_2\n",
    "        perm_sample_1 = permuted_data[:len(data1)]\n",
    "        perm_sample_2 = permuted_data[len(data1):]\n",
    "\n",
    "        return perm_sample_1, perm_sample_2"
   ]
  },
  {
   "cell_type": "code",
   "execution_count": 13,
   "metadata": {},
   "outputs": [
    {
     "data": {
      "text/plain": [
       "(5.0060000000000002, 6.5879999999999983)"
      ]
     },
     "execution_count": 13,
     "metadata": {},
     "output_type": "execute_result"
    }
   ],
   "source": [
    "(np.mean(sepalLengthSetosa), np.mean(sepalLengthVirginica))"
   ]
  },
  {
   "cell_type": "code",
   "execution_count": 14,
   "metadata": {},
   "outputs": [
    {
     "data": {
      "image/png": "[encoded data removed]",
      "text/plain": [
       "<matplotlib.figure.Figure at 0x10d8fc400>"
      ]
     },
     "metadata": {},
     "output_type": "display_data"
    }
   ],
   "source": [
    "for i in range(50):\n",
    "    # Generate permutation samples\n",
    "    perm_sample_1, perm_sample_2 = permutation_sample(sepalLengthSetosa, sepalLengthVirginica)\n",
    "\n",
    "\n",
    "    # Compute ECDFs\n",
    "    x_1, y_1 = ecdf(perm_sample_1)\n",
    "    x_2, y_2 = ecdf(perm_sample_2)\n",
    "\n",
    "    # Plot ECDFs of permutation sample\n",
    "    _ = plt.plot(x_1, y_1, marker='.', linestyle='none',\n",
    "                 color='red', alpha=0.02)\n",
    "    _ = plt.plot(x_2, y_2, marker='.', linestyle='none',\n",
    "                 color='blue', alpha=0.02)\n",
    "\n",
    "# Create and plot ECDFs from original data\n",
    "x_1, y_1 = ecdf(sepalLengthSetosa)\n",
    "x_2, y_2 = ecdf(sepalLengthVirginica)\n",
    "_ = plt.plot(x_1, y_1, marker='.', linestyle='none', color='red', label='Sepal Length - setosa')\n",
    "_ = plt.plot(x_2, y_2, marker='.', linestyle='none', color='blue', label='Sepal Length - virginica')\n",
    "\n",
    "# Label axes, set margin, and show plot\n",
    "plt.margins(0.02)\n",
    "_ = plt.xlabel('sepal lengths and widths [cm]')\n",
    "_ = plt.ylabel('ECDF')\n",
    "plt.legend();"
   ]
  },
  {
   "cell_type": "markdown",
   "metadata": {},
   "source": [
    "### Comparison of means\n",
    "\n",
    "for this purpose a new function is defined - draw permutation replicates, that uses permutation samples function inside:\n",
    "\n",
    "    def draw_perm_reps(data_1, data_2, func, size=1):\n",
    "        \"\"\"Generate multiple permutation replicates.\"\"\"\n",
    "\n",
    "        # Initialize array of replicates: perm_replicates\n",
    "        perm_replicates = np.empty(size)\n",
    "\n",
    "        for i in range(size):\n",
    "            # Generate permutation sample\n",
    "            perm_sample_1, perm_sample_2 = permutation_sample(data_1, data_2)\n",
    "\n",
    "            # Compute the test statistic\n",
    "            perm_replicates[i] = func(perm_sample_1, perm_sample_2)\n",
    "\n",
    "        return perm_replicates\n",
    "        \n",
    "For this example difference of means is looked at"
   ]
  },
  {
   "cell_type": "code",
   "execution_count": 15,
   "metadata": {
    "collapsed": true
   },
   "outputs": [],
   "source": [
    "# definition of the difference of means\n",
    "def diff_of_means(data_1, data_2):\n",
    "    \"\"\"Difference in means of two arrays.\"\"\"\n",
    "\n",
    "    # The difference of means of data_1, data_2: diff\n",
    "    diff = np.mean(data_1) - np.mean(data_2)\n",
    "\n",
    "    return diff"
   ]
  },
  {
   "cell_type": "code",
   "execution_count": 17,
   "metadata": {},
   "outputs": [
    {
     "data": {
      "text/plain": [
       "-1.5819999999999981"
      ]
     },
     "execution_count": 17,
     "metadata": {},
     "output_type": "execute_result"
    }
   ],
   "source": [
    "# empirical difference of means\n",
    "empirical_diff_means = diff_of_means(sepalLengthSetosa, sepalLengthVirginica)\n",
    "empirical_diff_means"
   ]
  },
  {
   "cell_type": "code",
   "execution_count": 19,
   "metadata": {
    "collapsed": true
   },
   "outputs": [],
   "source": [
    "# permutation replicates\n",
    "perm_replicates = draw_perm_reps(sepalLengthSetosa, sepalLengthVirginica, diff_of_means, size=10000)"
   ]
  },
  {
   "cell_type": "code",
   "execution_count": 21,
   "metadata": {},
   "outputs": [
    {
     "data": {
      "text/plain": [
       "0.0"
      ]
     },
     "execution_count": 21,
     "metadata": {},
     "output_type": "execute_result"
    }
   ],
   "source": [
    "# computing p-value\n",
    "p = np.sum(perm_replicates <= empirical_diff_means) / len(perm_replicates)\n",
    "p"
   ]
  },
  {
   "cell_type": "code",
   "execution_count": null,
   "metadata": {
    "collapsed": true
   },
   "outputs": [],
   "source": []
  }
 ],
 "metadata": {
  "kernelspec": {
   "display_name": "Python 3",
   "language": "python",
   "name": "python3"
  },
  "language_info": {
   "codemirror_mode": {
    "name": "ipython",
    "version": 3
   },
   "file_extension": ".py",
   "mimetype": "text/x-python",
   "name": "python",
   "nbconvert_exporter": "python",
   "pygments_lexer": "ipython3",
   "version": "3.6.0"
  }
 },
 "nbformat": 4,
 "nbformat_minor": 2
}
